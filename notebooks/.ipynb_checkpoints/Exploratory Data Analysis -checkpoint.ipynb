{
 "cells": [
  {
   "cell_type": "code",
   "execution_count": 6,
   "id": "f55393c4",
   "metadata": {},
   "outputs": [],
   "source": [
    "import pandas as pd\n",
    "import matplotlib.pyplot as plt\n",
    "import seaborn as sns\n",
    "import numpy as np\n",
    "import datetime"
   ]
  },
  {
   "cell_type": "markdown",
   "id": "08722cbf",
   "metadata": {},
   "source": [
    "# Import April Notebook"
   ]
  },
  {
   "cell_type": "code",
   "execution_count": 30,
   "id": "b9197a69",
   "metadata": {},
   "outputs": [],
   "source": [
    "df = pd.read_csv('../data/raw/Mobi_System_Data_2022-04.csv')"
   ]
  },
  {
   "cell_type": "code",
   "execution_count": 31,
   "id": "8ed1964f",
   "metadata": {},
   "outputs": [
    {
     "data": {
      "text/html": [
       "<div>\n",
       "<style scoped>\n",
       "    .dataframe tbody tr th:only-of-type {\n",
       "        vertical-align: middle;\n",
       "    }\n",
       "\n",
       "    .dataframe tbody tr th {\n",
       "        vertical-align: top;\n",
       "    }\n",
       "\n",
       "    .dataframe thead th {\n",
       "        text-align: right;\n",
       "    }\n",
       "</style>\n",
       "<table border=\"1\" class=\"dataframe\">\n",
       "  <thead>\n",
       "    <tr style=\"text-align: right;\">\n",
       "      <th></th>\n",
       "      <th>Departure</th>\n",
       "      <th>Return</th>\n",
       "      <th>Departure station</th>\n",
       "      <th>Return station</th>\n",
       "      <th>Membership type</th>\n",
       "      <th>Covered distance (m)</th>\n",
       "      <th>Duration (sec.)</th>\n",
       "      <th>Departure battery voltage (mV)</th>\n",
       "      <th>Return battery voltage (mV)</th>\n",
       "      <th>Departure temperature (C)</th>\n",
       "      <th>Return temperature (C)</th>\n",
       "      <th>Stopover duration (sec.)</th>\n",
       "      <th>Number of stopovers</th>\n",
       "    </tr>\n",
       "  </thead>\n",
       "  <tbody>\n",
       "    <tr>\n",
       "      <th>0</th>\n",
       "      <td>2022-05-01 0:00</td>\n",
       "      <td>2022-05-01 0:00</td>\n",
       "      <td>0217 Smithe &amp; Burrard</td>\n",
       "      <td>0041 Cardero &amp; Robson</td>\n",
       "      <td>365 Standard</td>\n",
       "      <td>1127.0</td>\n",
       "      <td>385</td>\n",
       "      <td>3963</td>\n",
       "      <td>4061</td>\n",
       "      <td>12</td>\n",
       "      <td>13</td>\n",
       "      <td>0</td>\n",
       "      <td>0</td>\n",
       "    </tr>\n",
       "    <tr>\n",
       "      <th>1</th>\n",
       "      <td>2022-05-01 0:00</td>\n",
       "      <td>2022-05-01 0:00</td>\n",
       "      <td>0037 Hornby &amp; Nelson</td>\n",
       "      <td>0025 Homer &amp; Robson (Vancouver Public Library)</td>\n",
       "      <td>30 Day Pass</td>\n",
       "      <td>888.0</td>\n",
       "      <td>311</td>\n",
       "      <td>3919</td>\n",
       "      <td>4067</td>\n",
       "      <td>12</td>\n",
       "      <td>12</td>\n",
       "      <td>0</td>\n",
       "      <td>0</td>\n",
       "    </tr>\n",
       "    <tr>\n",
       "      <th>2</th>\n",
       "      <td>2022-05-01 0:00</td>\n",
       "      <td>2022-05-01 0:00</td>\n",
       "      <td>0037 Hornby &amp; Nelson</td>\n",
       "      <td>0025 Homer &amp; Robson (Vancouver Public Library)</td>\n",
       "      <td>365 Standard</td>\n",
       "      <td>888.0</td>\n",
       "      <td>320</td>\n",
       "      <td>3897</td>\n",
       "      <td>4048</td>\n",
       "      <td>11</td>\n",
       "      <td>10</td>\n",
       "      <td>0</td>\n",
       "      <td>0</td>\n",
       "    </tr>\n",
       "    <tr>\n",
       "      <th>3</th>\n",
       "      <td>2022-05-01 0:00</td>\n",
       "      <td>2022-05-01 0:00</td>\n",
       "      <td>0028 Davie &amp; Beach</td>\n",
       "      <td>0138 Richards &amp; Helmcken</td>\n",
       "      <td>24 Hour</td>\n",
       "      <td>2785.0</td>\n",
       "      <td>901</td>\n",
       "      <td>3932</td>\n",
       "      <td>3995</td>\n",
       "      <td>11</td>\n",
       "      <td>12</td>\n",
       "      <td>0</td>\n",
       "      <td>0</td>\n",
       "    </tr>\n",
       "    <tr>\n",
       "      <th>4</th>\n",
       "      <td>2022-05-01 0:00</td>\n",
       "      <td>2022-05-01 0:00</td>\n",
       "      <td>0028 Davie &amp; Beach</td>\n",
       "      <td>0138 Richards &amp; Helmcken</td>\n",
       "      <td>24 Hour</td>\n",
       "      <td>2748.0</td>\n",
       "      <td>861</td>\n",
       "      <td>4077</td>\n",
       "      <td>4092</td>\n",
       "      <td>11</td>\n",
       "      <td>12</td>\n",
       "      <td>0</td>\n",
       "      <td>0</td>\n",
       "    </tr>\n",
       "  </tbody>\n",
       "</table>\n",
       "</div>"
      ],
      "text/plain": [
       "         Departure           Return      Departure station  \\\n",
       "0  2022-05-01 0:00  2022-05-01 0:00  0217 Smithe & Burrard   \n",
       "1  2022-05-01 0:00  2022-05-01 0:00   0037 Hornby & Nelson   \n",
       "2  2022-05-01 0:00  2022-05-01 0:00   0037 Hornby & Nelson   \n",
       "3  2022-05-01 0:00  2022-05-01 0:00     0028 Davie & Beach   \n",
       "4  2022-05-01 0:00  2022-05-01 0:00     0028 Davie & Beach   \n",
       "\n",
       "                                   Return station Membership type  \\\n",
       "0                           0041 Cardero & Robson    365 Standard   \n",
       "1  0025 Homer & Robson (Vancouver Public Library)     30 Day Pass   \n",
       "2  0025 Homer & Robson (Vancouver Public Library)    365 Standard   \n",
       "3                        0138 Richards & Helmcken         24 Hour   \n",
       "4                        0138 Richards & Helmcken         24 Hour   \n",
       "\n",
       "   Covered distance (m)  Duration (sec.)  Departure battery voltage (mV)  \\\n",
       "0                1127.0              385                            3963   \n",
       "1                 888.0              311                            3919   \n",
       "2                 888.0              320                            3897   \n",
       "3                2785.0              901                            3932   \n",
       "4                2748.0              861                            4077   \n",
       "\n",
       "   Return battery voltage (mV)  Departure temperature (C)  \\\n",
       "0                         4061                         12   \n",
       "1                         4067                         12   \n",
       "2                         4048                         11   \n",
       "3                         3995                         11   \n",
       "4                         4092                         11   \n",
       "\n",
       "   Return temperature (C)  Stopover duration (sec.)  Number of stopovers  \n",
       "0                      13                         0                    0  \n",
       "1                      12                         0                    0  \n",
       "2                      10                         0                    0  \n",
       "3                      12                         0                    0  \n",
       "4                      12                         0                    0  "
      ]
     },
     "execution_count": 31,
     "metadata": {},
     "output_type": "execute_result"
    }
   ],
   "source": [
    "df.head()"
   ]
  },
  {
   "cell_type": "code",
   "execution_count": 32,
   "id": "97c7e9a1",
   "metadata": {},
   "outputs": [
    {
     "name": "stdout",
     "output_type": "stream",
     "text": [
      "<class 'pandas.core.frame.DataFrame'>\n",
      "RangeIndex: 53987 entries, 0 to 53986\n",
      "Data columns (total 13 columns):\n",
      " #   Column                          Non-Null Count  Dtype  \n",
      "---  ------                          --------------  -----  \n",
      " 0   Departure                       53987 non-null  object \n",
      " 1   Return                          53955 non-null  object \n",
      " 2   Departure station               53987 non-null  object \n",
      " 3   Return station                  53950 non-null  object \n",
      " 4   Membership type                 53892 non-null  object \n",
      " 5   Covered distance (m)            53987 non-null  float64\n",
      " 6   Duration (sec.)                 53987 non-null  int64  \n",
      " 7   Departure battery voltage (mV)  53987 non-null  int64  \n",
      " 8   Return battery voltage (mV)     53987 non-null  int64  \n",
      " 9   Departure temperature (C)       53987 non-null  int64  \n",
      " 10  Return temperature (C)          53987 non-null  int64  \n",
      " 11  Stopover duration (sec.)        53987 non-null  int64  \n",
      " 12  Number of stopovers             53987 non-null  int64  \n",
      "dtypes: float64(1), int64(7), object(5)\n",
      "memory usage: 5.4+ MB\n"
     ]
    }
   ],
   "source": [
    "df.info()"
   ]
  },
  {
   "cell_type": "markdown",
   "id": "eeedeec1",
   "metadata": {},
   "source": [
    "With a quick glance from the info of our dataframe we can see that there is some null values that will need to be explored further"
   ]
  },
  {
   "cell_type": "markdown",
   "id": "4344446d",
   "metadata": {},
   "source": [
    "# Looking at NA/Null Values"
   ]
  },
  {
   "cell_type": "code",
   "execution_count": null,
   "id": "1b9de5d7",
   "metadata": {},
   "outputs": [],
   "source": []
  },
  {
   "cell_type": "code",
   "execution_count": 143,
   "id": "b6c55d77",
   "metadata": {},
   "outputs": [
    {
     "data": {
      "text/plain": [
       "Departure                         0.000000\n",
       "Departure station                 0.000000\n",
       "Covered distance (m)              0.000000\n",
       "Duration (sec.)                   0.000000\n",
       "Departure battery voltage (mV)    0.000000\n",
       "Return battery voltage (mV)       0.000000\n",
       "Departure temperature (C)         0.000000\n",
       "Return temperature (C)            0.000000\n",
       "Stopover duration (sec.)          0.000000\n",
       "Number of stopovers               0.000000\n",
       "Return                            0.059274\n",
       "Return station                    0.068535\n",
       "Membership type                   0.175968\n",
       "dtype: float64"
      ]
     },
     "execution_count": 143,
     "metadata": {},
     "output_type": "execute_result"
    }
   ],
   "source": [
    "(df.isnull().sum()/len(df)*100).sort_values()"
   ]
  },
  {
   "cell_type": "markdown",
   "id": "4852412f",
   "metadata": {},
   "source": [
    "# Turn departure and return into datetime format"
   ]
  },
  {
   "cell_type": "code",
   "execution_count": 33,
   "id": "18f5c7d4",
   "metadata": {},
   "outputs": [],
   "source": [
    "df['Departure'] = pd.to_datetime(df['Departure'], format = \"%Y-%m-%d %H:%M%S\")\n",
    "df['Return'] = pd.to_datetime(df['Return'], format = \"%Y-%m-%d %H:%M%S\")"
   ]
  },
  {
   "cell_type": "code",
   "execution_count": 34,
   "id": "37b02aea",
   "metadata": {},
   "outputs": [
    {
     "data": {
      "text/html": [
       "<div>\n",
       "<style scoped>\n",
       "    .dataframe tbody tr th:only-of-type {\n",
       "        vertical-align: middle;\n",
       "    }\n",
       "\n",
       "    .dataframe tbody tr th {\n",
       "        vertical-align: top;\n",
       "    }\n",
       "\n",
       "    .dataframe thead th {\n",
       "        text-align: right;\n",
       "    }\n",
       "</style>\n",
       "<table border=\"1\" class=\"dataframe\">\n",
       "  <thead>\n",
       "    <tr style=\"text-align: right;\">\n",
       "      <th></th>\n",
       "      <th>Departure</th>\n",
       "      <th>Return</th>\n",
       "      <th>Departure station</th>\n",
       "      <th>Return station</th>\n",
       "      <th>Membership type</th>\n",
       "      <th>Covered distance (m)</th>\n",
       "      <th>Duration (sec.)</th>\n",
       "      <th>Departure battery voltage (mV)</th>\n",
       "      <th>Return battery voltage (mV)</th>\n",
       "      <th>Departure temperature (C)</th>\n",
       "      <th>Return temperature (C)</th>\n",
       "      <th>Stopover duration (sec.)</th>\n",
       "      <th>Number of stopovers</th>\n",
       "    </tr>\n",
       "  </thead>\n",
       "  <tbody>\n",
       "    <tr>\n",
       "      <th>0</th>\n",
       "      <td>2022-05-01</td>\n",
       "      <td>2022-05-01</td>\n",
       "      <td>0217 Smithe &amp; Burrard</td>\n",
       "      <td>0041 Cardero &amp; Robson</td>\n",
       "      <td>365 Standard</td>\n",
       "      <td>1127.0</td>\n",
       "      <td>385</td>\n",
       "      <td>3963</td>\n",
       "      <td>4061</td>\n",
       "      <td>12</td>\n",
       "      <td>13</td>\n",
       "      <td>0</td>\n",
       "      <td>0</td>\n",
       "    </tr>\n",
       "    <tr>\n",
       "      <th>1</th>\n",
       "      <td>2022-05-01</td>\n",
       "      <td>2022-05-01</td>\n",
       "      <td>0037 Hornby &amp; Nelson</td>\n",
       "      <td>0025 Homer &amp; Robson (Vancouver Public Library)</td>\n",
       "      <td>30 Day Pass</td>\n",
       "      <td>888.0</td>\n",
       "      <td>311</td>\n",
       "      <td>3919</td>\n",
       "      <td>4067</td>\n",
       "      <td>12</td>\n",
       "      <td>12</td>\n",
       "      <td>0</td>\n",
       "      <td>0</td>\n",
       "    </tr>\n",
       "    <tr>\n",
       "      <th>2</th>\n",
       "      <td>2022-05-01</td>\n",
       "      <td>2022-05-01</td>\n",
       "      <td>0037 Hornby &amp; Nelson</td>\n",
       "      <td>0025 Homer &amp; Robson (Vancouver Public Library)</td>\n",
       "      <td>365 Standard</td>\n",
       "      <td>888.0</td>\n",
       "      <td>320</td>\n",
       "      <td>3897</td>\n",
       "      <td>4048</td>\n",
       "      <td>11</td>\n",
       "      <td>10</td>\n",
       "      <td>0</td>\n",
       "      <td>0</td>\n",
       "    </tr>\n",
       "    <tr>\n",
       "      <th>3</th>\n",
       "      <td>2022-05-01</td>\n",
       "      <td>2022-05-01</td>\n",
       "      <td>0028 Davie &amp; Beach</td>\n",
       "      <td>0138 Richards &amp; Helmcken</td>\n",
       "      <td>24 Hour</td>\n",
       "      <td>2785.0</td>\n",
       "      <td>901</td>\n",
       "      <td>3932</td>\n",
       "      <td>3995</td>\n",
       "      <td>11</td>\n",
       "      <td>12</td>\n",
       "      <td>0</td>\n",
       "      <td>0</td>\n",
       "    </tr>\n",
       "    <tr>\n",
       "      <th>4</th>\n",
       "      <td>2022-05-01</td>\n",
       "      <td>2022-05-01</td>\n",
       "      <td>0028 Davie &amp; Beach</td>\n",
       "      <td>0138 Richards &amp; Helmcken</td>\n",
       "      <td>24 Hour</td>\n",
       "      <td>2748.0</td>\n",
       "      <td>861</td>\n",
       "      <td>4077</td>\n",
       "      <td>4092</td>\n",
       "      <td>11</td>\n",
       "      <td>12</td>\n",
       "      <td>0</td>\n",
       "      <td>0</td>\n",
       "    </tr>\n",
       "  </tbody>\n",
       "</table>\n",
       "</div>"
      ],
      "text/plain": [
       "   Departure     Return      Departure station  \\\n",
       "0 2022-05-01 2022-05-01  0217 Smithe & Burrard   \n",
       "1 2022-05-01 2022-05-01   0037 Hornby & Nelson   \n",
       "2 2022-05-01 2022-05-01   0037 Hornby & Nelson   \n",
       "3 2022-05-01 2022-05-01     0028 Davie & Beach   \n",
       "4 2022-05-01 2022-05-01     0028 Davie & Beach   \n",
       "\n",
       "                                   Return station Membership type  \\\n",
       "0                           0041 Cardero & Robson    365 Standard   \n",
       "1  0025 Homer & Robson (Vancouver Public Library)     30 Day Pass   \n",
       "2  0025 Homer & Robson (Vancouver Public Library)    365 Standard   \n",
       "3                        0138 Richards & Helmcken         24 Hour   \n",
       "4                        0138 Richards & Helmcken         24 Hour   \n",
       "\n",
       "   Covered distance (m)  Duration (sec.)  Departure battery voltage (mV)  \\\n",
       "0                1127.0              385                            3963   \n",
       "1                 888.0              311                            3919   \n",
       "2                 888.0              320                            3897   \n",
       "3                2785.0              901                            3932   \n",
       "4                2748.0              861                            4077   \n",
       "\n",
       "   Return battery voltage (mV)  Departure temperature (C)  \\\n",
       "0                         4061                         12   \n",
       "1                         4067                         12   \n",
       "2                         4048                         11   \n",
       "3                         3995                         11   \n",
       "4                         4092                         11   \n",
       "\n",
       "   Return temperature (C)  Stopover duration (sec.)  Number of stopovers  \n",
       "0                      13                         0                    0  \n",
       "1                      12                         0                    0  \n",
       "2                      10                         0                    0  \n",
       "3                      12                         0                    0  \n",
       "4                      12                         0                    0  "
      ]
     },
     "execution_count": 34,
     "metadata": {},
     "output_type": "execute_result"
    }
   ],
   "source": [
    "df.head()"
   ]
  },
  {
   "cell_type": "markdown",
   "id": "0664c936",
   "metadata": {},
   "source": [
    "#### How many stations are there?"
   ]
  },
  {
   "cell_type": "code",
   "execution_count": 115,
   "id": "df4dd61f",
   "metadata": {},
   "outputs": [
    {
     "name": "stdout",
     "output_type": "stream",
     "text": [
      "205 stations were departed in April\n",
      "206 stations were returned in April\n"
     ]
    }
   ],
   "source": [
    "# Departure Station\n",
    "print(f'{len(df[\"Departure station\"].value_counts())} stations were departed in April')\n",
    "\n",
    "# Return Station\n",
    "print(f'{len(df[\"Return station\"].value_counts().index)} stations were returned in April')"
   ]
  },
  {
   "cell_type": "markdown",
   "id": "c896d6a4",
   "metadata": {},
   "source": [
    "This means there is a difference in stations that were departed and returned. So what is the correct total of stations? \n",
    "\n",
    "To answer this, I want to check if there is duplication due to a string error compared to a number errror. It seems like each station has a unique number combined with a string address. I will first compare the numbers by turning each column into a set and use symmetric_difference to return the values that are not matched"
   ]
  },
  {
   "cell_type": "code",
   "execution_count": 116,
   "id": "97010259",
   "metadata": {},
   "outputs": [
    {
     "data": {
      "text/plain": [
       "{'0982'}"
      ]
     },
     "execution_count": 116,
     "metadata": {},
     "output_type": "execute_result"
    }
   ],
   "source": [
    "list_dep_stat_num = df.groupby('Departure station').sum().index.str.split(n = 1).tolist()\n",
    "list_ret_stat_num = df.groupby('Return station').sum().index.str.split(n = 1).tolist()\n",
    "\n",
    "# Returns values that are either in departure or return but not both\n",
    "set([num[0] for num in list_dep_stat_num]).symmetric_difference(set([num[0] for num in list_ret_stat_num]))"
   ]
  },
  {
   "cell_type": "code",
   "execution_count": 117,
   "id": "e866254b",
   "metadata": {},
   "outputs": [
    {
     "data": {
      "text/plain": [
       "{'Workshop - Bike Testing'}"
      ]
     },
     "execution_count": 117,
     "metadata": {},
     "output_type": "execute_result"
    }
   ],
   "source": [
    "list_dep_stat_str = df.groupby('Departure station').sum().index.str.split(n = 1).tolist()\n",
    "list_ret_stat_str = df.groupby('Return station').sum().index.str.split(n = 1).tolist()\n",
    "\n",
    "# Returns values that are either in departure or return but not both\n",
    "set([num[1] for num in list_dep_stat_str]).symmetric_difference(set([num[1] for num in list_ret_stat_str]))"
   ]
  },
  {
   "cell_type": "markdown",
   "id": "7e403227",
   "metadata": {},
   "source": [
    "It seems like the numeric values and strings both return only 1 mismatch which corresponds with a station called 'Workshop - Bike Testing'"
   ]
  },
  {
   "cell_type": "code",
   "execution_count": 134,
   "id": "3c18059a",
   "metadata": {},
   "outputs": [
    {
     "ename": "ValueError",
     "evalue": "Cannot mask with non-boolean array containing NA / NaN values",
     "output_type": "error",
     "traceback": [
      "\u001b[1;31m---------------------------------------------------------------------------\u001b[0m",
      "\u001b[1;31mValueError\u001b[0m                                Traceback (most recent call last)",
      "\u001b[1;32m~\\AppData\\Local\\Temp/ipykernel_4832/2633813572.py\u001b[0m in \u001b[0;36m<module>\u001b[1;34m\u001b[0m\n\u001b[1;32m----> 1\u001b[1;33m \u001b[0mdf\u001b[0m\u001b[1;33m[\u001b[0m\u001b[1;34m'Return station'\u001b[0m\u001b[1;33m]\u001b[0m\u001b[1;33m[\u001b[0m\u001b[0mdf\u001b[0m\u001b[1;33m[\u001b[0m\u001b[1;34m'Return station'\u001b[0m\u001b[1;33m]\u001b[0m\u001b[1;33m.\u001b[0m\u001b[0mstr\u001b[0m\u001b[1;33m.\u001b[0m\u001b[0mcontains\u001b[0m\u001b[1;33m(\u001b[0m\u001b[1;34m'Workshop - Bike Testing'\u001b[0m\u001b[1;33m)\u001b[0m\u001b[1;33m]\u001b[0m\u001b[1;33m\u001b[0m\u001b[1;33m\u001b[0m\u001b[0m\n\u001b[0m",
      "\u001b[1;32m~\\anaconda3\\envs\\time_series\\lib\\site-packages\\pandas\\core\\series.py\u001b[0m in \u001b[0;36m__getitem__\u001b[1;34m(self, key)\u001b[0m\n\u001b[0;32m    959\u001b[0m             \u001b[0mkey\u001b[0m \u001b[1;33m=\u001b[0m \u001b[0mlist\u001b[0m\u001b[1;33m(\u001b[0m\u001b[0mkey\u001b[0m\u001b[1;33m)\u001b[0m\u001b[1;33m\u001b[0m\u001b[1;33m\u001b[0m\u001b[0m\n\u001b[0;32m    960\u001b[0m \u001b[1;33m\u001b[0m\u001b[0m\n\u001b[1;32m--> 961\u001b[1;33m         \u001b[1;32mif\u001b[0m \u001b[0mcom\u001b[0m\u001b[1;33m.\u001b[0m\u001b[0mis_bool_indexer\u001b[0m\u001b[1;33m(\u001b[0m\u001b[0mkey\u001b[0m\u001b[1;33m)\u001b[0m\u001b[1;33m:\u001b[0m\u001b[1;33m\u001b[0m\u001b[1;33m\u001b[0m\u001b[0m\n\u001b[0m\u001b[0;32m    962\u001b[0m             \u001b[0mkey\u001b[0m \u001b[1;33m=\u001b[0m \u001b[0mcheck_bool_indexer\u001b[0m\u001b[1;33m(\u001b[0m\u001b[0mself\u001b[0m\u001b[1;33m.\u001b[0m\u001b[0mindex\u001b[0m\u001b[1;33m,\u001b[0m \u001b[0mkey\u001b[0m\u001b[1;33m)\u001b[0m\u001b[1;33m\u001b[0m\u001b[1;33m\u001b[0m\u001b[0m\n\u001b[0;32m    963\u001b[0m             \u001b[0mkey\u001b[0m \u001b[1;33m=\u001b[0m \u001b[0mnp\u001b[0m\u001b[1;33m.\u001b[0m\u001b[0masarray\u001b[0m\u001b[1;33m(\u001b[0m\u001b[0mkey\u001b[0m\u001b[1;33m,\u001b[0m \u001b[0mdtype\u001b[0m\u001b[1;33m=\u001b[0m\u001b[0mbool\u001b[0m\u001b[1;33m)\u001b[0m\u001b[1;33m\u001b[0m\u001b[1;33m\u001b[0m\u001b[0m\n",
      "\u001b[1;32m~\\anaconda3\\envs\\time_series\\lib\\site-packages\\pandas\\core\\common.py\u001b[0m in \u001b[0;36mis_bool_indexer\u001b[1;34m(key)\u001b[0m\n\u001b[0;32m    137\u001b[0m                     \u001b[1;31m# Don't raise on e.g. [\"A\", \"B\", np.nan], see\u001b[0m\u001b[1;33m\u001b[0m\u001b[1;33m\u001b[0m\u001b[1;33m\u001b[0m\u001b[0m\n\u001b[0;32m    138\u001b[0m                     \u001b[1;31m#  test_loc_getitem_list_of_labels_categoricalindex_with_na\u001b[0m\u001b[1;33m\u001b[0m\u001b[1;33m\u001b[0m\u001b[1;33m\u001b[0m\u001b[0m\n\u001b[1;32m--> 139\u001b[1;33m                     \u001b[1;32mraise\u001b[0m \u001b[0mValueError\u001b[0m\u001b[1;33m(\u001b[0m\u001b[0mna_msg\u001b[0m\u001b[1;33m)\u001b[0m\u001b[1;33m\u001b[0m\u001b[1;33m\u001b[0m\u001b[0m\n\u001b[0m\u001b[0;32m    140\u001b[0m                 \u001b[1;32mreturn\u001b[0m \u001b[1;32mFalse\u001b[0m\u001b[1;33m\u001b[0m\u001b[1;33m\u001b[0m\u001b[0m\n\u001b[0;32m    141\u001b[0m             \u001b[1;32mreturn\u001b[0m \u001b[1;32mTrue\u001b[0m\u001b[1;33m\u001b[0m\u001b[1;33m\u001b[0m\u001b[0m\n",
      "\u001b[1;31mValueError\u001b[0m: Cannot mask with non-boolean array containing NA / NaN values"
     ]
    }
   ],
   "source": [
    "df['Return station'][df['Return station'].str.contains('Workshop - Bike Testing')]"
   ]
  },
  {
   "cell_type": "code",
   "execution_count": 126,
   "id": "5f994932",
   "metadata": {},
   "outputs": [
    {
     "ename": "ValueError",
     "evalue": "Cannot mask with non-boolean array containing NA / NaN values",
     "output_type": "error",
     "traceback": [
      "\u001b[1;31m---------------------------------------------------------------------------\u001b[0m",
      "\u001b[1;31mValueError\u001b[0m                                Traceback (most recent call last)",
      "\u001b[1;32m~\\AppData\\Local\\Temp/ipykernel_4832/2633813572.py\u001b[0m in \u001b[0;36m<module>\u001b[1;34m\u001b[0m\n\u001b[1;32m----> 1\u001b[1;33m \u001b[0mdf\u001b[0m\u001b[1;33m[\u001b[0m\u001b[1;34m'Return station'\u001b[0m\u001b[1;33m]\u001b[0m\u001b[1;33m[\u001b[0m\u001b[0mdf\u001b[0m\u001b[1;33m[\u001b[0m\u001b[1;34m'Return station'\u001b[0m\u001b[1;33m]\u001b[0m\u001b[1;33m.\u001b[0m\u001b[0mstr\u001b[0m\u001b[1;33m.\u001b[0m\u001b[0mcontains\u001b[0m\u001b[1;33m(\u001b[0m\u001b[1;34m'Workshop - Bike Testing'\u001b[0m\u001b[1;33m)\u001b[0m\u001b[1;33m]\u001b[0m\u001b[1;33m\u001b[0m\u001b[1;33m\u001b[0m\u001b[0m\n\u001b[0m",
      "\u001b[1;32m~\\anaconda3\\envs\\time_series\\lib\\site-packages\\pandas\\core\\series.py\u001b[0m in \u001b[0;36m__getitem__\u001b[1;34m(self, key)\u001b[0m\n\u001b[0;32m    959\u001b[0m             \u001b[0mkey\u001b[0m \u001b[1;33m=\u001b[0m \u001b[0mlist\u001b[0m\u001b[1;33m(\u001b[0m\u001b[0mkey\u001b[0m\u001b[1;33m)\u001b[0m\u001b[1;33m\u001b[0m\u001b[1;33m\u001b[0m\u001b[0m\n\u001b[0;32m    960\u001b[0m \u001b[1;33m\u001b[0m\u001b[0m\n\u001b[1;32m--> 961\u001b[1;33m         \u001b[1;32mif\u001b[0m \u001b[0mcom\u001b[0m\u001b[1;33m.\u001b[0m\u001b[0mis_bool_indexer\u001b[0m\u001b[1;33m(\u001b[0m\u001b[0mkey\u001b[0m\u001b[1;33m)\u001b[0m\u001b[1;33m:\u001b[0m\u001b[1;33m\u001b[0m\u001b[1;33m\u001b[0m\u001b[0m\n\u001b[0m\u001b[0;32m    962\u001b[0m             \u001b[0mkey\u001b[0m \u001b[1;33m=\u001b[0m \u001b[0mcheck_bool_indexer\u001b[0m\u001b[1;33m(\u001b[0m\u001b[0mself\u001b[0m\u001b[1;33m.\u001b[0m\u001b[0mindex\u001b[0m\u001b[1;33m,\u001b[0m \u001b[0mkey\u001b[0m\u001b[1;33m)\u001b[0m\u001b[1;33m\u001b[0m\u001b[1;33m\u001b[0m\u001b[0m\n\u001b[0;32m    963\u001b[0m             \u001b[0mkey\u001b[0m \u001b[1;33m=\u001b[0m \u001b[0mnp\u001b[0m\u001b[1;33m.\u001b[0m\u001b[0masarray\u001b[0m\u001b[1;33m(\u001b[0m\u001b[0mkey\u001b[0m\u001b[1;33m,\u001b[0m \u001b[0mdtype\u001b[0m\u001b[1;33m=\u001b[0m\u001b[0mbool\u001b[0m\u001b[1;33m)\u001b[0m\u001b[1;33m\u001b[0m\u001b[1;33m\u001b[0m\u001b[0m\n",
      "\u001b[1;32m~\\anaconda3\\envs\\time_series\\lib\\site-packages\\pandas\\core\\common.py\u001b[0m in \u001b[0;36mis_bool_indexer\u001b[1;34m(key)\u001b[0m\n\u001b[0;32m    137\u001b[0m                     \u001b[1;31m# Don't raise on e.g. [\"A\", \"B\", np.nan], see\u001b[0m\u001b[1;33m\u001b[0m\u001b[1;33m\u001b[0m\u001b[1;33m\u001b[0m\u001b[0m\n\u001b[0;32m    138\u001b[0m                     \u001b[1;31m#  test_loc_getitem_list_of_labels_categoricalindex_with_na\u001b[0m\u001b[1;33m\u001b[0m\u001b[1;33m\u001b[0m\u001b[1;33m\u001b[0m\u001b[0m\n\u001b[1;32m--> 139\u001b[1;33m                     \u001b[1;32mraise\u001b[0m \u001b[0mValueError\u001b[0m\u001b[1;33m(\u001b[0m\u001b[0mna_msg\u001b[0m\u001b[1;33m)\u001b[0m\u001b[1;33m\u001b[0m\u001b[1;33m\u001b[0m\u001b[0m\n\u001b[0m\u001b[0;32m    140\u001b[0m                 \u001b[1;32mreturn\u001b[0m \u001b[1;32mFalse\u001b[0m\u001b[1;33m\u001b[0m\u001b[1;33m\u001b[0m\u001b[0m\n\u001b[0;32m    141\u001b[0m             \u001b[1;32mreturn\u001b[0m \u001b[1;32mTrue\u001b[0m\u001b[1;33m\u001b[0m\u001b[1;33m\u001b[0m\u001b[0m\n",
      "\u001b[1;31mValueError\u001b[0m: Cannot mask with non-boolean array containing NA / NaN values"
     ]
    }
   ],
   "source": [
    "df['Return station'][df['Return station'].str.contains('Workshop - Bike Testing')]"
   ]
  },
  {
   "cell_type": "code",
   "execution_count": 112,
   "id": "42b2cc30",
   "metadata": {},
   "outputs": [
    {
     "data": {
      "text/plain": [
       "206"
      ]
     },
     "execution_count": 112,
     "metadata": {},
     "output_type": "execute_result"
    }
   ],
   "source": [
    "len(set(df[\"Return station\"].unique()).intersection(set(df[\"Return station\"].value_counts().index)))"
   ]
  },
  {
   "cell_type": "code",
   "execution_count": 63,
   "id": "f8bed98c",
   "metadata": {},
   "outputs": [
    {
     "data": {
      "text/plain": [
       "0        0217 Smithe & Burrard\n",
       "1         0037 Hornby & Nelson\n",
       "2         0037 Hornby & Nelson\n",
       "3           0028 Davie & Beach\n",
       "4           0028 Davie & Beach\n",
       "                 ...          \n",
       "53982       0064 Expo & Smithe\n",
       "53983      0083 Aquatic Centre\n",
       "53984     0212 Union & Dunlevy\n",
       "53985     0019 Robson & Hornby\n",
       "53986       0028 Davie & Beach\n",
       "Name: Departure station, Length: 53987, dtype: object"
      ]
     },
     "execution_count": 63,
     "metadata": {},
     "output_type": "execute_result"
    }
   ],
   "source": [
    "df[\"Departure station\"][df[\"Departure station\"].isin(df[\"Return station\"])]"
   ]
  },
  {
   "cell_type": "code",
   "execution_count": null,
   "id": "490a979e",
   "metadata": {},
   "outputs": [],
   "source": []
  }
 ],
 "metadata": {
  "kernelspec": {
   "display_name": "Python 3 (ipykernel)",
   "language": "python",
   "name": "python3"
  },
  "language_info": {
   "codemirror_mode": {
    "name": "ipython",
    "version": 3
   },
   "file_extension": ".py",
   "mimetype": "text/x-python",
   "name": "python",
   "nbconvert_exporter": "python",
   "pygments_lexer": "ipython3",
   "version": "3.8.12"
  }
 },
 "nbformat": 4,
 "nbformat_minor": 5
}
